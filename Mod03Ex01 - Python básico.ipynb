{
 "cells": [
  {
   "cell_type": "markdown",
   "metadata": {},
   "source": [
    "### 01 - Teste de gravidez\n",
    "Escreva uma célula com controle de fluxos que tem como premissa a existência das seguintes variáveis:\n",
    "\n",
    "- ```sexo``` como ```str``` indicando os valores '**M**' para masculino e '**F**' para feminino  \n",
    "- ```beta_hcg``` que indica a quantidade do beta-HCG no sangue em mUI/mL.\n",
    "\n",
    "A sua tarefa é escrever um código que imprima como resultado \"indivíduo do sexo masculino\" quando sexo = 'M', caso sexo = 'F', se o valor de beta-HCG for maior que 5, retorne \"Positivo\" indicando que a paciente está grávida, e retorne \"Negativo\" caso contrário.\n",
    "\n",
    "Não mexa nos valores da variável ```sexo``` nem em ```beta_hcg```, e escreva um código que funcione para quaisquer valores possíveis de ambos: ```sexo``` = '**M**' ou '**F**' e ```beta_hcg``` assumindo valores inteiros positivos."
   ]
  },
  {
   "cell_type": "code",
   "execution_count": 13,
   "metadata": {},
   "outputs": [
    {
     "name": "stdout",
     "output_type": "stream",
     "text": [
      "Negativo\n"
     ]
    }
   ],
   "source": [
    "sexo = 'F'\n",
    "beta_hcg = 5\n",
    "\n",
    "# seu código vem abaixo desta linha\n",
    "if sexo=='M':\n",
    "    print(\"indivíduo do sexo masculino\")\n",
    "elif((sexo=='F') and (beta_hcg>5)):\n",
    "    print('Positivo')\n",
    "else:\n",
    "    print('Negativo')\n",
    "\n"
   ]
  },
  {
   "cell_type": "code",
   "execution_count": 10,
   "metadata": {},
   "outputs": [
    {
     "name": "stdout",
     "output_type": "stream",
     "text": [
      "Informe o sexo: F\n",
      "Valor do BetaHCG: 6\n",
      "Positivo\n"
     ]
    }
   ],
   "source": [
    "# seu código vem abaixo desta linha\n",
    "sexo = str(input('Informe o sexo: '))\n",
    "beta_hcg = int(input('Valor do BetaHCG: '))\n",
    "if sexo=='M':\n",
    "    print(\"indivíduo do sexo masculino\")\n",
    "elif((sexo=='F') and (beta_hcg>5)):\n",
    "    print('Positivo')\n",
    "else:\n",
    "    print('Negativo')\n"
   ]
  },
  {
   "cell_type": "markdown",
   "metadata": {},
   "source": [
    "### 02 - Renomeando variáveis\n",
    "\n",
    "Vamos ver adiante que uma forma de renomear variáveis de um conjunto de dados é através de dicionários - o dicionário deve conter como chave o nome original, associando a cada chave um único valor (tipo *str*) que contenha o nome novo.\n",
    "\n",
    "A sua tarefa é escrever um dicionário que possa ser utilizado para traduzir as variáveis ```name``` (nome), ```age``` (idade) e ```income``` (renda). Ou seja, esse dicionário deve relacionar as chaves *name, age* e *income* às suas respectivas traduções."
   ]
  },
  {
   "cell_type": "code",
   "execution_count": 15,
   "metadata": {},
   "outputs": [
    {
     "data": {
      "text/plain": [
       "{'': ''}"
      ]
     },
     "execution_count": 15,
     "metadata": {},
     "output_type": "execute_result"
    }
   ],
   "source": [
    "dic_renomeacao = {'': ''}\n",
    "dic_renomeacao"
   ]
  },
  {
   "cell_type": "code",
   "execution_count": 16,
   "metadata": {},
   "outputs": [
    {
     "data": {
      "text/plain": [
       "{'name': 'nome', 'age': 'idade', 'income': 'renda'}"
      ]
     },
     "execution_count": 16,
     "metadata": {},
     "output_type": "execute_result"
    }
   ],
   "source": [
    "dic_renomeacao = {'name': 'nome','age':'idade','income':'renda'}\n",
    "dic_renomeacao"
   ]
  },
  {
   "cell_type": "markdown",
   "metadata": {},
   "source": [
    "### 03 - É divisível?\n",
    "A sua tarefa é escrever um código que indique se um número ```N``` é divisível por um número P. Escreva um programa que faça essa verificação para quaisquer combinações de ```N``` e ```M``` e devolva uma mensagem indicativa no output."
   ]
  },
  {
   "cell_type": "code",
   "execution_count": 18,
   "metadata": {},
   "outputs": [
    {
     "name": "stdout",
     "output_type": "stream",
     "text": [
      "informe o numerador: 42\n",
      "informe o divisor: 5\n",
      "Não divisível\n"
     ]
    }
   ],
   "source": [
    "N = 42\n",
    "M = 7\n",
    "#Seu código\n",
    "N = int(input('informe o numerador: '))\n",
    "M = int(input('informe o divisor: '))        \n",
    "if N % M == 0:\n",
    "    print ('Divisível')\n",
    "else:\n",
    "    print('Não divisível')"
   ]
  },
  {
   "cell_type": "markdown",
   "metadata": {},
   "source": [
    "### 04 - Números primos\n",
    "> Um número **N** é primo se e somente se é divisível por 1, -1, por **N** e por -**N**.  \n",
    "\n",
    "Escreva um script que verifica se ```N``` é um número primo, verificando se ```N``` é divisível por todos os números de ```1``` a ```N-1```. Você vai precisar usar alguma ferramenta de *loop* que você aprendeu para isto. No final, devolva uma mensagem no output indicando se o número é primo ou não."
   ]
  },
  {
   "cell_type": "code",
   "execution_count": 23,
   "metadata": {},
   "outputs": [
    {
     "name": "stdout",
     "output_type": "stream",
     "text": [
      "98 não é um número primo, pois também pode ser dividido por \n",
      "[1, 2, 7, 14, 49]\n"
     ]
    }
   ],
   "source": [
    "n=98\n",
    "primos=[]\n",
    "for value in range(1,n):\n",
    "    if n % value == 0:\n",
    "        primos.append(value)        \n",
    "if len(primos)==1:\n",
    "    print(f\"{n} é um número primo\")\n",
    "else:\n",
    "    print(f\"{n} não é um número primo, pois também pode ser dividido por \") \n",
    "    print(primos)"
   ]
  },
  {
   "cell_type": "code",
   "execution_count": 154,
   "metadata": {},
   "outputs": [
    {
     "name": "stdout",
     "output_type": "stream",
     "text": [
      "2 é um número primo\n",
      "3 é um número primo\n",
      "5 é um número primo\n",
      "7 é um número primo\n",
      "11 é um número primo\n",
      "13 é um número primo\n",
      "17 é um número primo\n",
      "19 é um número primo\n",
      "23 é um número primo\n",
      "29 é um número primo\n"
     ]
    }
   ],
   "source": [
    "N = 30\n",
    "primos=[]\n",
    "for i in range(2, N):\n",
    "    primo = True\n",
    "    for j in range(2, i // 2 + 1): # só preciso ir até a metade do número\n",
    "        if i % j == 0:\n",
    "            primo = False\n",
    "            \n",
    "    if primo:\n",
    "        print(f\"{i} é um número primo\")  \n",
    "    "
   ]
  },
  {
   "cell_type": "code",
   "execution_count": 37,
   "metadata": {},
   "outputs": [
    {
     "name": "stdout",
     "output_type": "stream",
     "text": [
      "[2, 3, 5, 7, 11, 13, 17, 19, 23, 29]\n"
     ]
    }
   ],
   "source": [
    "N = 30\n",
    "primos=[]\n",
    "for i in range(2, N):\n",
    "    primo = True\n",
    "    for j in range(2, i // 2 + 1): # só preciso ir até a metade do número\n",
    "        if i % j == 0:\n",
    "            primo = False\n",
    "            \n",
    "    if primo:\n",
    "        primos.append(i)\n",
    "print(primos)\n",
    "        \n",
    "   "
   ]
  },
  {
   "cell_type": "markdown",
   "metadata": {},
   "source": [
    "### 05 - Desafio\n",
    "O algorítmo do exercício anterior não é o mais eficiente. O que você pode fazer para deixá-lo mais eficiente? Ou seja, executar menos comparações, portanto consumir menos tempo.\n",
    "1. Será que precisamos correr o loop até o final sempre?\n",
    "2. Será que precisamos mesmo verificar **todos** os números?\n",
    "3. Será que precisamos ir até N-1?\n",
    "\n",
    "Essas perguntas levam ao tipo de pensamento voltado a deixar um algoritmo mais eficiente. Veja se você consegue melhorar o seu."
   ]
  },
  {
   "cell_type": "code",
   "execution_count": 155,
   "metadata": {},
   "outputs": [
    {
     "name": "stdout",
     "output_type": "stream",
     "text": [
      "[1, 2, 3, 5, 7, 11, 13, 17, 19, 23, 29, 31, 37, 41, 43, 47, 53, 59, 61, 67, 71, 73, 79, 83, 89, 97]\n"
     ]
    }
   ],
   "source": [
    "N = 98\n",
    "\n",
    "# seu código aqui\n",
    "primos=[]\n",
    "for x in range(1,N+1):\n",
    "    cont=0\n",
    "    for y in range(1,x+1):\n",
    "        if x%y==0:\n",
    "            cont+=1\n",
    "    if cont<=2:\n",
    "        primos.append(x)\n",
    "print(primos)  "
   ]
  },
  {
   "cell_type": "markdown",
   "metadata": {},
   "source": [
    "### 06 - Peso ideal 1\n",
    "O IMC (índice de massa corpórea) é um indicador de saúde mais bem aceito que o peso. Ele é calculado como:\n",
    "\n",
    "$$ IMC = \\dfrac{peso}{altura^2}$$\n",
    "\n",
    "Segundo a OMS, valores *normais* são entre 18.5 e 24.9.\n",
    "\n",
    "Sua tarefa é encontrar o ponto médio dessa faixa."
   ]
  },
  {
   "cell_type": "code",
   "execution_count": 74,
   "metadata": {},
   "outputs": [
    {
     "data": {
      "text/plain": [
       "21.7"
      ]
     },
     "execution_count": 74,
     "metadata": {},
     "output_type": "execute_result"
    }
   ],
   "source": [
    "imc_ideal = (18.5 + 24.9) / 2\n",
    "imc_ideal"
   ]
  },
  {
   "cell_type": "markdown",
   "metadata": {},
   "source": [
    "### 07 - Peso ideal 2\n",
    "Recebendo um valor de altura, encontre o peso '*ideal*' dessa pessoa, que fornece o IMC encontrado acima"
   ]
  },
  {
   "cell_type": "code",
   "execution_count": 76,
   "metadata": {},
   "outputs": [
    {
     "data": {
      "text/plain": [
       "62.71"
      ]
     },
     "execution_count": 76,
     "metadata": {},
     "output_type": "execute_result"
    }
   ],
   "source": [
    "altura = 1.70\n",
    "\n",
    "# Seu código\n",
    "peso_ideal = round(imc_ideal*(altura**2),2)\n",
    "peso_ideal"
   ]
  },
  {
   "cell_type": "markdown",
   "metadata": {},
   "source": [
    "### 08 - Peso ideal 3\n",
    "Dada uma lista contendo as alturas de pacientes, crie uma nova lista que contenha o peso '*ideal*' (que fornece o IMC calculado em **Peso ideal 1**) desses pacientes."
   ]
  },
  {
   "cell_type": "code",
   "execution_count": 77,
   "metadata": {},
   "outputs": [
    {
     "name": "stdout",
     "output_type": "stream",
     "text": [
      "[82.51, 91.19, 62.71, 59.08]\n"
     ]
    }
   ],
   "source": [
    "lista_alturas = [1.95, 2.05, 1.70, 1.65]\n",
    "\n",
    "lista_peso_ideal = []\n",
    "\n",
    "\n",
    "# seu código\n",
    "for p in lista_alturas:\n",
    "    p_ideal=round(imc_ideal*(p**2),2)\n",
    "    lista_peso_ideal.append(p_ideal)\n",
    "print(lista_peso_ideal)\n",
    "   "
   ]
  },
  {
   "cell_type": "markdown",
   "metadata": {},
   "source": [
    "### 09 - Peso ideal 4\n",
    "Dada uma lista de tuplas - cada elemento da lista é uma tupla contendo altura e peso de um paciente - crie uma nova lista com o IMC desses pacientes."
   ]
  },
  {
   "cell_type": "code",
   "execution_count": 78,
   "metadata": {
    "scrolled": true
   },
   "outputs": [
    {
     "name": "stdout",
     "output_type": "stream",
     "text": [
      "[]\n"
     ]
    }
   ],
   "source": [
    "altura_peso = [(1.80, 90), (1.65, 75), (1.91, 70)]\n",
    "p1 = list(altura_peso[0])\n",
    "p2 = list(altura_peso[1])\n",
    "p3 = list(altura_peso[2])\n",
    "\n",
    "pacientes = []\n",
    "for p in p1:\n",
    "    round(p1[1]/(p1[0]**2),2)\n",
    "#    pacientes.append(p1)\n",
    "print(pacientes)\n",
    "\n"
   ]
  },
  {
   "cell_type": "code",
   "execution_count": null,
   "metadata": {},
   "outputs": [],
   "source": [
    "print(type(pacientes)) # 'list' \n",
    "print(pacientes)\n",
    "pacientes[0]"
   ]
  },
  {
   "cell_type": "markdown",
   "metadata": {},
   "source": [
    "### 10 - Peso ideal 5\n",
    "Dada uma lista de **listas** - cada elemento da lista é uma **lista** contendo altura e peso de um paciente, adicione mais um elemento à lista de cada paciente contendo o IMC do paciente. Verifique também se é 'baixo', 'normal' ou 'alto' segundo os padrões da OMS em que normal é entre 18.5 e 24.9.\n",
    "\n",
    "Reflexão: por que no problema anterior temos que criar uma nova lista, e não podemos adicionar os dados de cada indivíduo à tupla?"
   ]
  },
  {
   "cell_type": "code",
   "execution_count": 79,
   "metadata": {},
   "outputs": [
    {
     "data": {
      "text/plain": [
       "[[1.8, 90], [1.65, 75], [1.91, 70]]"
      ]
     },
     "execution_count": 79,
     "metadata": {},
     "output_type": "execute_result"
    }
   ],
   "source": [
    "altura_peso = [[1.80, 90], [1.65, 75], [1.91, 70]]\n",
    "\n",
    "# seu código\n",
    "\n",
    "altura_peso"
   ]
  },
  {
   "cell_type": "code",
   "execution_count": 85,
   "metadata": {},
   "outputs": [
    {
     "name": "stdout",
     "output_type": "stream",
     "text": [
      "[1.8, 90]\n",
      "[1.65, 75]\n",
      "[1.91, 70]\n"
     ]
    }
   ],
   "source": [
    "a,b,c = altura_peso\n"
   ]
  },
  {
   "cell_type": "code",
   "execution_count": 40,
   "metadata": {},
   "outputs": [
    {
     "name": "stdout",
     "output_type": "stream",
     "text": [
      "Digite sua altura em metros: 1.9\n",
      "Digite seu peso em Kg: 100\n",
      "Seu IMC é: 27.70\n",
      "Excesso de peso\n"
     ]
    }
   ],
   "source": [
    "altura = float(input(\"Digite sua altura em metros: \"))\n",
    "peso = float(input(\"Digite seu peso em Kg: \"))\n",
    " \n",
    "imc = peso / altura**2\n",
    " \n",
    "print(\"Seu IMC é: %.2f\" % imc)\n",
    " \n",
    "if imc < 18.5:\n",
    "\tprint(\"Abaixo do peso normal\")\n",
    "elif imc < 24.9:\n",
    "\tprint(\"Peso normal\")\n",
    "elif imc < 29.9:\n",
    "\tprint(\"Excesso de peso\")\n",
    "elif imc < 34.9:\n",
    "\tprint(\"Obesidade classe I\")\n",
    "elif imc < 39.9:\n",
    "\tprint(\"Obesidade classe II\")\n",
    "elif imc > 40:\n",
    "\tprint(\"Obesidade Classe III\")\n",
    "#else:\n",
    "#\tprint(\"Obesidade Grau III (mórbida)\")"
   ]
  }
 ],
 "metadata": {
  "kernelspec": {
   "display_name": "Python 3",
   "language": "python",
   "name": "python3"
  },
  "language_info": {
   "codemirror_mode": {
    "name": "ipython",
    "version": 3
   },
   "file_extension": ".py",
   "mimetype": "text/x-python",
   "name": "python",
   "nbconvert_exporter": "python",
   "pygments_lexer": "ipython3",
   "version": "3.8.8"
  }
 },
 "nbformat": 4,
 "nbformat_minor": 4
}
